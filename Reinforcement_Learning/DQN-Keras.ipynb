{
 "cells": [
  {
   "cell_type": "markdown",
   "metadata": {},
   "source": [
    "# DQN - Keras\n",
    "\n",
    "- **설명** : https://keon.io/deep-q-learning/\n",
    "- **코드** : https://github.com/keon/deep-q-learning/blob/master/dqn.py"
   ]
  },
  {
   "cell_type": "code",
   "execution_count": 1,
   "metadata": {},
   "outputs": [
    {
     "name": "stderr",
     "output_type": "stream",
     "text": [
      "Using TensorFlow backend.\n"
     ]
    },
    {
     "data": {
      "text/plain": [
       "'2.2.4'"
      ]
     },
     "execution_count": 1,
     "metadata": {},
     "output_type": "execute_result"
    }
   ],
   "source": [
    "import keras \n",
    "\n",
    "keras.__version__"
   ]
  },
  {
   "cell_type": "code",
   "execution_count": 2,
   "metadata": {},
   "outputs": [],
   "source": [
    "import random\n",
    "import gym\n",
    "import numpy as np\n",
    "from collections import deque\n",
    "from keras import layers, models\n",
    "from keras.optimizers import Adam\n",
    "\n",
    "# 맷플롯립 설정\n",
    "from IPython.display import HTML\n",
    "%matplotlib inline\n",
    "import matplotlib\n",
    "import matplotlib.animation as animation\n",
    "import matplotlib.pyplot as plt\n",
    "plt.rcParams['axes.labelsize'] = 14\n",
    "plt.rcParams['xtick.labelsize'] = 12\n",
    "plt.rcParams['ytick.labelsize'] = 12\n",
    "\n",
    "# 한글출력\n",
    "matplotlib.rc('font', family='AppleGothic')  # MacOS\n",
    "# matplotlib.rc('font', family='Malgun Gothic')  # Windows\n",
    "# matplotlib.rc('font', family='NanumBarunGothic') # Linux\n",
    "plt.rcParams['axes.unicode_minus'] = False"
   ]
  },
  {
   "cell_type": "markdown",
   "metadata": {},
   "source": [
    " "
   ]
  },
  {
   "cell_type": "markdown",
   "metadata": {},
   "source": [
    "## 1. Create DQNAgent Class"
   ]
  },
  {
   "cell_type": "code",
   "execution_count": 3,
   "metadata": {},
   "outputs": [],
   "source": [
    "class DQNAgent:\n",
    "    # Deep Q-learning Agent\n",
    "    def __init__(self, state_size, action_size):\n",
    "        self.state_size = state_size\n",
    "        self.action_size = action_size\n",
    "        self.memory = deque(maxlen=2000)\n",
    "        self.gamma = 0.95  # discount rate\n",
    "        self.epsilon = 1.0  # exploration rate\n",
    "        self.epsilon_min = 0.01 \n",
    "        self.epsilon_decay = 0.995\n",
    "        self.learning_rate = 0.001\n",
    "        self.model = self._build_model()\n",
    "        \n",
    "    def _build_model(self):\n",
    "        # Neural Net for Deep-Q learning Model\n",
    "        model = models.Sequential()\n",
    "        model.add(layers.Dense(24, activation='relu', \n",
    "                               input_shape=(self.state_size,)))\n",
    "        model.add(layers.Dense(24, activation='relu'))\n",
    "        model.add(layers.Dense(self.action_size, activation='linear'))\n",
    "        model.compile(loss='mse',\n",
    "                      optimizer=Adam(lr=self.learning_rate))\n",
    "        return model\n",
    "    \n",
    "    def remember(self, state, action, reward, next_state, done):\n",
    "        self.memory.append((state, action, reward, next_state, done))\n",
    "        \n",
    "    def act(self, state):\n",
    "        if np.random.rand() <= self.epsilon:\n",
    "            # random하게 행동\n",
    "            return random.randrange(self.action_size)\n",
    "        act_values = self.model.predict(state)\n",
    "        return np.argmax(act_values[0])  # returns action\n",
    "    \n",
    "    def replay(self, batch_size):\n",
    "        # sample minibatch from the memory\n",
    "        minibatch = random.sample(self.memory, batch_size)\n",
    "        # 3xtract info from each memory\n",
    "        for state, action, reward, next_state, done in minibatch:\n",
    "            # if done, make our target reward\n",
    "            target = reward\n",
    "            if not done:\n",
    "                # predict the future discounted reward\n",
    "                target = (reward + self.gamma * \n",
    "                          np.amax(self.model.predict(next_state)[0]))\n",
    "            \n",
    "            # make the agent to approximately map\n",
    "            # the current state to future discounted reward\n",
    "            # We'll call that target_f\n",
    "            target_f = self.model.predict(state)\n",
    "            target_f[0][action] = target\n",
    "            # Train the NN with the state and target_f\n",
    "            self.model.fit(state, target_f, epochs=1, verbose=0)\n",
    "        if self.epsilon > self.epsilon_min:\n",
    "            self.epsilon *= self.epsilon_decay\n",
    "            \n",
    "    def load(self, name):\n",
    "        self.model.load_weights(name)\n",
    "        \n",
    "    def save(self, name):\n",
    "        self.model.save_weights(name)"
   ]
  },
  {
   "cell_type": "markdown",
   "metadata": {},
   "source": [
    " "
   ]
  },
  {
   "cell_type": "markdown",
   "metadata": {},
   "source": [
    "## 2. Training DQN"
   ]
  },
  {
   "cell_type": "markdown",
   "metadata": {},
   "source": [
    "### 1) Jupyter Notebook Rendering & Animation"
   ]
  },
  {
   "cell_type": "code",
   "execution_count": 4,
   "metadata": {},
   "outputs": [],
   "source": [
    "from render_notebook import render_cart_pole\n",
    "\n",
    "def plot_cart_pole(env, obs):\n",
    "    img = render_cart_pole(env, obs)\n",
    "    plt.imshow(img)\n",
    "    plt.axis(\"off\")\n",
    "    plt.show()\n",
    "    \n",
    "def update_scene(num, frames, patch):\n",
    "    plt.close()  # 이전 그래프를 닫지 않으면 두 개의 그래프가 출력되는 matplotlib의 버그로 보입니다.\n",
    "    patch.set_data(frames[num])\n",
    "    return patch,\n",
    "\n",
    "def plot_animation(frames, figsize=(5,6), repeat=False, interval=40):\n",
    "    fig = plt.figure(figsize=figsize)\n",
    "    patch = plt.imshow(frames[0])\n",
    "    plt.axis('off')\n",
    "    return animation.FuncAnimation(fig, update_scene, fargs=(frames, patch), \n",
    "                                   frames=len(frames), repeat=repeat, interval=interval)"
   ]
  },
  {
   "cell_type": "markdown",
   "metadata": {},
   "source": [
    " "
   ]
  },
  {
   "cell_type": "markdown",
   "metadata": {},
   "source": [
    "### 2) Training"
   ]
  },
  {
   "cell_type": "code",
   "execution_count": 5,
   "metadata": {},
   "outputs": [
    {
     "name": "stdout",
     "output_type": "stream",
     "text": [
      "state_size : 4\n"
     ]
    }
   ],
   "source": [
    "env = gym.make('CartPole-v1')\n",
    "state_size = env.observation_space.shape[0]\n",
    "print('state_size :', state_size)"
   ]
  },
  {
   "cell_type": "code",
   "execution_count": 6,
   "metadata": {},
   "outputs": [
    {
     "name": "stdout",
     "output_type": "stream",
     "text": [
      "action_size : 2\n"
     ]
    }
   ],
   "source": [
    "action_size = env.action_space.n\n",
    "print('action_size :', action_size)"
   ]
  },
  {
   "cell_type": "code",
   "execution_count": 7,
   "metadata": {},
   "outputs": [],
   "source": [
    "agent = DQNAgent(state_size, action_size)"
   ]
  },
  {
   "cell_type": "code",
   "execution_count": 8,
   "metadata": {},
   "outputs": [
    {
     "name": "stdout",
     "output_type": "stream",
     "text": [
      "episode: 0/100, score: 15, e: 1.0\n",
      "episode: 1/100, score: 55, e: 0.82\n",
      "episode: 2/100, score: 18, e: 0.75\n",
      "episode: 3/100, score: 26, e: 0.66\n",
      "episode: 4/100, score: 63, e: 0.48\n",
      "episode: 5/100, score: 10, e: 0.46\n",
      "episode: 6/100, score: 15, e: 0.42\n",
      "episode: 7/100, score: 12, e: 0.4\n",
      "episode: 8/100, score: 11, e: 0.38\n",
      "episode: 9/100, score: 10, e: 0.36\n",
      "episode: 10/100, score: 10, e: 0.34\n",
      "episode: 11/100, score: 9, e: 0.33\n",
      "episode: 12/100, score: 28, e: 0.28\n",
      "episode: 13/100, score: 9, e: 0.27\n",
      "episode: 14/100, score: 10, e: 0.26\n",
      "episode: 15/100, score: 9, e: 0.25\n",
      "episode: 16/100, score: 11, e: 0.23\n",
      "episode: 17/100, score: 9, e: 0.22\n",
      "episode: 18/100, score: 10, e: 0.21\n",
      "episode: 19/100, score: 15, e: 0.2\n",
      "episode: 20/100, score: 10, e: 0.19\n",
      "episode: 21/100, score: 22, e: 0.17\n",
      "episode: 22/100, score: 22, e: 0.15\n",
      "episode: 23/100, score: 10, e: 0.14\n",
      "episode: 24/100, score: 10, e: 0.14\n",
      "episode: 25/100, score: 9, e: 0.13\n",
      "episode: 26/100, score: 28, e: 0.11\n",
      "episode: 27/100, score: 16, e: 0.1\n",
      "episode: 28/100, score: 70, e: 0.073\n",
      "episode: 29/100, score: 60, e: 0.054\n",
      "episode: 30/100, score: 35, e: 0.046\n",
      "episode: 31/100, score: 70, e: 0.032\n",
      "episode: 32/100, score: 99, e: 0.02\n",
      "episode: 33/100, score: 94, e: 0.012\n",
      "episode: 34/100, score: 80, e: 0.01\n",
      "episode: 35/100, score: 36, e: 0.01\n",
      "episode: 36/100, score: 63, e: 0.01\n",
      "episode: 37/100, score: 29, e: 0.01\n",
      "episode: 38/100, score: 48, e: 0.01\n",
      "episode: 39/100, score: 42, e: 0.01\n",
      "episode: 40/100, score: 69, e: 0.01\n",
      "episode: 41/100, score: 45, e: 0.01\n",
      "episode: 42/100, score: 38, e: 0.01\n",
      "episode: 43/100, score: 36, e: 0.01\n",
      "episode: 44/100, score: 59, e: 0.01\n",
      "episode: 45/100, score: 63, e: 0.01\n",
      "episode: 46/100, score: 37, e: 0.01\n",
      "episode: 47/100, score: 24, e: 0.01\n",
      "episode: 48/100, score: 32, e: 0.01\n",
      "episode: 49/100, score: 28, e: 0.01\n",
      "episode: 50/100, score: 22, e: 0.01\n",
      "episode: 51/100, score: 103, e: 0.01\n",
      "episode: 52/100, score: 50, e: 0.01\n",
      "episode: 53/100, score: 27, e: 0.01\n",
      "episode: 54/100, score: 123, e: 0.01\n",
      "episode: 55/100, score: 43, e: 0.01\n",
      "episode: 56/100, score: 118, e: 0.01\n",
      "episode: 57/100, score: 8, e: 0.01\n",
      "episode: 58/100, score: 147, e: 0.01\n",
      "episode: 59/100, score: 72, e: 0.01\n",
      "episode: 60/100, score: 10, e: 0.01\n",
      "episode: 61/100, score: 34, e: 0.01\n",
      "episode: 62/100, score: 30, e: 0.01\n",
      "episode: 63/100, score: 35, e: 0.01\n",
      "episode: 64/100, score: 134, e: 0.01\n",
      "episode: 65/100, score: 19, e: 0.01\n",
      "episode: 66/100, score: 86, e: 0.01\n",
      "episode: 67/100, score: 31, e: 0.01\n",
      "episode: 68/100, score: 43, e: 0.01\n",
      "episode: 69/100, score: 50, e: 0.01\n",
      "episode: 70/100, score: 113, e: 0.01\n",
      "episode: 71/100, score: 99, e: 0.01\n",
      "episode: 72/100, score: 101, e: 0.01\n",
      "episode: 73/100, score: 142, e: 0.01\n",
      "episode: 74/100, score: 66, e: 0.01\n",
      "episode: 75/100, score: 129, e: 0.01\n",
      "episode: 76/100, score: 151, e: 0.01\n",
      "episode: 77/100, score: 20, e: 0.01\n",
      "episode: 78/100, score: 110, e: 0.01\n",
      "episode: 79/100, score: 184, e: 0.01\n",
      "episode: 80/100, score: 298, e: 0.01\n",
      "episode: 81/100, score: 131, e: 0.01\n",
      "episode: 82/100, score: 190, e: 0.01\n",
      "episode: 83/100, score: 91, e: 0.01\n",
      "episode: 84/100, score: 170, e: 0.01\n",
      "episode: 85/100, score: 211, e: 0.01\n",
      "episode: 86/100, score: 256, e: 0.01\n",
      "episode: 87/100, score: 265, e: 0.01\n",
      "episode: 88/100, score: 94, e: 0.01\n",
      "episode: 89/100, score: 177, e: 0.01\n",
      "episode: 90/100, score: 102, e: 0.01\n",
      "episode: 91/100, score: 98, e: 0.01\n",
      "episode: 92/100, score: 53, e: 0.01\n",
      "episode: 93/100, score: 103, e: 0.01\n",
      "episode: 94/100, score: 9, e: 0.01\n",
      "episode: 95/100, score: 9, e: 0.01\n",
      "episode: 96/100, score: 8, e: 0.01\n",
      "episode: 97/100, score: 9, e: 0.01\n",
      "episode: 98/100, score: 9, e: 0.01\n",
      "episode: 99/100, score: 9, e: 0.01\n"
     ]
    }
   ],
   "source": [
    "done = False\n",
    "batch_size = 32\n",
    "EPISODES = 100\n",
    "frames = []\n",
    "\n",
    "for e in range(EPISODES):\n",
    "    state = env.reset()\n",
    "    obs = state\n",
    "    state = state.reshape([1, state_size])  # [1, 4]\n",
    "    for time in range(500):\n",
    "        img = render_cart_pole(env, obs)  # plotting\n",
    "        frames.append(img)\n",
    "        \n",
    "        action = agent.act(state)\n",
    "        next_state, reward, done, _ = env.step(action)\n",
    "        reward = reward if not done else -10  # penalty\n",
    "        next_state = next_state.reshape([1, state_size])\n",
    "        agent.remember(state, action, reward, next_state, done)\n",
    "        state = next_state\n",
    "        if done:\n",
    "            print('episode: {}/{}, score: {}, e: {:.2}'\n",
    "                  .format(e, EPISODES, time, agent.epsilon))\n",
    "            break\n",
    "        if len(agent.memory) > batch_size:\n",
    "            agent.replay(batch_size)\n",
    "            \n",
    "env.close()"
   ]
  },
  {
   "cell_type": "code",
   "execution_count": 2,
   "metadata": {},
   "outputs": [],
   "source": [
    "# video = plot_animation(frames, figsize=(6,4))\n",
    "# HTML(video.to_html5_video())  # HTML5 동영상으로 만들어 줍니다"
   ]
  },
  {
   "cell_type": "code",
   "execution_count": null,
   "metadata": {},
   "outputs": [],
   "source": []
  }
 ],
 "metadata": {
  "kernelspec": {
   "display_name": "tensorflow",
   "language": "python",
   "name": "tensorflow"
  },
  "language_info": {
   "codemirror_mode": {
    "name": "ipython",
    "version": 3
   },
   "file_extension": ".py",
   "mimetype": "text/x-python",
   "name": "python",
   "nbconvert_exporter": "python",
   "pygments_lexer": "ipython3",
   "version": "3.6.5"
  }
 },
 "nbformat": 4,
 "nbformat_minor": 2
}
